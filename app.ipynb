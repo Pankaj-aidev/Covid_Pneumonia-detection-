{
 "cells": [
  {
   "cell_type": "code",
   "execution_count": null,
   "id": "d70fd6d7",
   "metadata": {},
   "outputs": [],
   "source": [
    "import streamlit as st\n",
    "import numpy as np\n",
    "import tensorflow as tf\n",
    "from PIL import Image\n",
    "\n",
    "# Load trained ResNet model\n",
    "model = tf.keras.models.load_model(\"resnet_model.h5\")\n",
    "\n",
    "# Class labels\n",
    "class_labels = [\"Normal\", \"COVID-19\", \"Viral Pneumonia\"]\n",
    "\n",
    "# App title\n",
    "st.title(\"COVID-19 & Pneumonia Detection\")\n",
    "st.write(\"Upload a chest X-ray image to classify it into Normal, COVID-19, or Viral Pneumonia.\")\n",
    "\n",
    "# File uploader\n",
    "uploaded_file = st.file_uploader(\"Choose an image...\", type=[\"jpg\", \"jpeg\", \"png\"])\n",
    "\n",
    "if uploaded_file is not None:\n",
    "    # Load and display the image\n",
    "    image = Image.open(uploaded_file).convert(\"RGB\")\n",
    "    st.image(image, caption=\"Uploaded Image\", use_container_width=True)\n",
    "\n",
    "    # Preprocess: resize + normalize\n",
    "    img = image.resize((224, 224))  # Change if your model uses a different input size\n",
    "    img_array = np.array(img) / 255.0\n",
    "    img_array = np.expand_dims(img_array, axis=0)  # Shape: (1, 224, 224, 3)\n",
    "\n",
    "    # Make prediction\n",
    "    prediction = model.predict(img_array)[0]\n",
    "\n",
    "    # Get class and confidence\n",
    "    predicted_class = class_labels[np.argmax(prediction)]\n",
    "    confidence = np.max(prediction) * 100\n",
    "\n",
    "    st.success(f\"Prediction: {predicted_class} ({confidence:.2f}% confidence)\")\n",
    "\n",
    "    # Show probabilities for all classes\n",
    "    st.subheader(\"Prediction Probabilities\")\n",
    "    for label, prob in zip(class_labels, prediction):\n",
    "        st.write(f\"{label}: {prob*100:.2f}%\")\n"
   ]
  }
 ],
 "metadata": {
  "language_info": {
   "name": "python"
  }
 },
 "nbformat": 4,
 "nbformat_minor": 5
}
